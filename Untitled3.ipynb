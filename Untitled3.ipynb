{
  "nbformat": 4,
  "nbformat_minor": 0,
  "metadata": {
    "colab": {
      "provenance": [],
      "authorship_tag": "ABX9TyOzWiPEaC/mV7KiNXjdWTKL",
      "include_colab_link": true
    },
    "kernelspec": {
      "name": "python3",
      "display_name": "Python 3"
    },
    "language_info": {
      "name": "python"
    }
  },
  "cells": [
    {
      "cell_type": "markdown",
      "metadata": {
        "id": "view-in-github",
        "colab_type": "text"
      },
      "source": [
        "<a href=\"https://colab.research.google.com/github/MadhuriNishankaraRao/PandasPractice/blob/main/Untitled3.ipynb\" target=\"_parent\"><img src=\"https://colab.research.google.com/assets/colab-badge.svg\" alt=\"Open In Colab\"/></a>"
      ]
    },
    {
      "cell_type": "code",
      "execution_count": 59,
      "metadata": {
        "colab": {
          "base_uri": "https://localhost:8080/"
        },
        "id": "vpscO0rTYId3",
        "outputId": "1cc4be90-a083-483c-af5a-7ba0cf28f4e7"
      },
      "outputs": [
        {
          "output_type": "stream",
          "name": "stdout",
          "text": [
            "6\n"
          ]
        }
      ],
      "source": [
        "import pandas as pd\n",
        "df=pd.read_csv('Salaries.csv')\n",
        "df.columns\n",
        "df.dtypes\n",
        "df.info\n",
        "df.describe\n",
        "df['salary'].mean()\n",
        "df['salary'].median()\n",
        "df['salary'].mode()\n",
        "df['salary'].var()\n",
        "df['salary'].std()\n",
        "df['salary'].skew()\n",
        "df['salary'].kurt()\n",
        "df['salary'].min()\n",
        "df['salary'].max()\n",
        "df[['salary','phd']]\n",
        "df[['salary','phd']].mean()\n",
        "df[['salary','phd']].median()\n",
        "df[['salary','phd']].mode()\n",
        "df[['salary','phd']].var()\n",
        "df[['salary','phd']].std()\n",
        "df[['salary','phd']].skew()\n",
        "df.iloc[:,:]\n",
        "df.iloc[0:50,:]\n",
        "df.iloc[0:50,0:2]\n",
        "df.iloc[0:50,[1,3,5]]\n",
        "df.groupby(by= 'rank').mean()\n",
        "df.groupby(by= 'rank')[['salary','phd']].mean()\n",
        "df['rank'].value_counts()\n",
        "df['rank'].max()\n",
        "df\n",
        "df.loc[2,'rank']\n",
        "df.iloc[:,-1]\n",
        "df.loc[:,'salary']\n",
        "df['sex'].value_counts()\n",
        "df.mean()\n",
        "import warnings\n",
        "warnings.filterwarnings('ignore')\n",
        "df.median()\n",
        "df.std()\n",
        "df.var()\n",
        "df.skew()\n",
        "df.kurt()\n",
        "a=df.shape[0]\n",
        "df.shape\n",
        "b=df.shape[1]\n",
        "a+b\n",
        "print(b)\n",
        "df=pd.read_csv('Salaries.csv',nrows=2)"
      ]
    }
  ]
}